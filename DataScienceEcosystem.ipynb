{
 "cells": [
  {
   "cell_type": "markdown",
   "id": "9490aea0-0764-4246-a539-a08690e1f72b",
   "metadata": {},
   "source": [
    "# Data Science Tools and Ecosystem\n",
    "\n"
   ]
  },
  {
   "cell_type": "markdown",
   "id": "ad0bae51-08fb-4b84-8a14-76ba72e498b1",
   "metadata": {},
   "source": [
    "**In this notebook, Data Science Tools and Ecosystem are summarized.**"
   ]
  },
  {
   "cell_type": "markdown",
   "id": "0d731b78-e09e-4eec-9264-238ede6a0ce9",
   "metadata": {},
   "source": [
    "**Some of the popular languages that Data Scientists use are:**\n",
    "1. Python\n",
    "2. R\n",
    "3. SQL"
   ]
  },
  {
   "cell_type": "markdown",
   "id": "a892157a-78f4-4d43-9bf9-7e89c6f13f32",
   "metadata": {},
   "source": [
    "**Some of the commonly used libraries used by Data Scientists include:**\n",
    "1. Tensorflow\n",
    "2. Pandas\n",
    "3. seaborn"
   ]
  },
  {
   "cell_type": "markdown",
   "id": "68514457-d2c0-4272-80eb-c6909f3c3542",
   "metadata": {},
   "source": [
    "| Data Science Tools | \n",
    "|--------------------|\n",
    "| Jupyter Notebook   |\n",
    "| RStudio            |\n",
    "| Git                |\n"
   ]
  },
  {
   "cell_type": "markdown",
   "id": "e7e14ae6-6a8c-4384-acbc-ce3982ef8c78",
   "metadata": {},
   "source": [
    "### Below are a few examples of evaluating arithmetic expressions in Python"
   ]
  },
  {
   "cell_type": "code",
   "execution_count": 12,
   "id": "374863fc-147f-4994-a163-2f1d2e67b2de",
   "metadata": {},
   "outputs": [
    {
     "data": {
      "text/plain": [
       "17"
      ]
     },
     "execution_count": 12,
     "metadata": {},
     "output_type": "execute_result"
    }
   ],
   "source": [
    "# This a simple arithmetic expression to mutiply then add integers\n",
    "(3*4)+5"
   ]
  },
  {
   "cell_type": "code",
   "execution_count": 13,
   "id": "30091ced-925a-4296-8c46-3eba4ebb354d",
   "metadata": {},
   "outputs": [
    {
     "data": {
      "text/plain": [
       "3.3333333333333335"
      ]
     },
     "execution_count": 13,
     "metadata": {},
     "output_type": "execute_result"
    }
   ],
   "source": [
    "# This will convert 200 minutes to hours by diving by 60\n",
    "\n",
    "(200/60)"
   ]
  },
  {
   "cell_type": "markdown",
   "id": "9df51dd8-7eab-4871-a614-27cc8301364d",
   "metadata": {},
   "source": [
    "**Objectives**\n",
    "\n",
    "* Tools to data science\n",
    "* Practice with jupyter\n",
    "* Pratice with Rstudio \n"
   ]
  },
  {
   "cell_type": "markdown",
   "id": "600bb419-8457-47bf-8990-9c1136017381",
   "metadata": {},
   "source": [
    "## Autor\n",
    "**Edgar Alejandro Hernandez Martinez**"
   ]
  }
 ],
 "metadata": {
  "kernelspec": {
   "display_name": "Python 3 (ipykernel)",
   "language": "python",
   "name": "python3"
  },
  "language_info": {
   "codemirror_mode": {
    "name": "ipython",
    "version": 3
   },
   "file_extension": ".py",
   "mimetype": "text/x-python",
   "name": "python",
   "nbconvert_exporter": "python",
   "pygments_lexer": "ipython3",
   "version": "3.13.0"
  }
 },
 "nbformat": 4,
 "nbformat_minor": 5
}
